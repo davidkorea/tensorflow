{
 "cells": [
  {
   "cell_type": "code",
   "execution_count": 1,
   "metadata": {},
   "outputs": [],
   "source": [
    "import os\n",
    "import numpy as np\n",
    "import matplotlib.pyplot as plt\n",
    "import tensorflow as tf\n",
    "from tensorflow.examples.tutorials.mnist import input_data\n",
    "import time"
   ]
  },
  {
   "cell_type": "code",
   "execution_count": 2,
   "metadata": {},
   "outputs": [],
   "source": [
    "from IPython.display import Image"
   ]
  },
  {
   "cell_type": "code",
   "execution_count": 4,
   "metadata": {},
   "outputs": [],
   "source": [
    "mnist = input_data.read_data_sets('../MNIST-data', one_hot=True) #download dataset and save to '../MNIST-data'"
   ]
  },
  {
   "cell_type": "markdown",
   "metadata": {},
   "source": [
    "# EDA"
   ]
  },
  {
   "cell_type": "code",
   "execution_count": 5,
   "metadata": {},
   "outputs": [
    {
     "data": {
      "text/plain": [
       "array([[0., 0., 0., ..., 0., 0., 0.],\n",
       "       [0., 0., 0., ..., 0., 0., 0.],\n",
       "       [0., 0., 0., ..., 0., 0., 0.],\n",
       "       ...,\n",
       "       [0., 0., 0., ..., 0., 0., 0.],\n",
       "       [0., 0., 0., ..., 0., 0., 0.],\n",
       "       [0., 0., 0., ..., 0., 0., 0.]], dtype=float32)"
      ]
     },
     "execution_count": 5,
     "metadata": {},
     "output_type": "execute_result"
    }
   ],
   "source": [
    "mnist.train.images"
   ]
  },
  {
   "cell_type": "code",
   "execution_count": 44,
   "metadata": {},
   "outputs": [
    {
     "data": {
      "text/html": [
       "<img src=\"http://wiki.jikexueyuan.com/project/tensorflow-zh/images/MNIST-Matrix.png\" width=\"360\" height=\"60\"/>"
      ],
      "text/plain": [
       "<IPython.core.display.Image object>"
      ]
     },
     "execution_count": 44,
     "metadata": {},
     "output_type": "execute_result"
    }
   ],
   "source": [
    "Image(url='http://wiki.jikexueyuan.com/project/tensorflow-zh/images/MNIST-Matrix.png', height=60, width=360)"
   ]
  },
  {
   "cell_type": "code",
   "execution_count": 6,
   "metadata": {},
   "outputs": [
    {
     "data": {
      "text/plain": [
       "(55000, 784)"
      ]
     },
     "execution_count": 6,
     "metadata": {},
     "output_type": "execute_result"
    }
   ],
   "source": [
    "mnist.train.images.shape"
   ]
  },
  {
   "cell_type": "code",
   "execution_count": 39,
   "metadata": {},
   "outputs": [
    {
     "data": {
      "text/html": [
       "<img src=\"http://wiki.jikexueyuan.com/project/tensorflow-zh/images/mnist-train-xs.png\" width=\"360\" height=\"60\"/>"
      ],
      "text/plain": [
       "<IPython.core.display.Image object>"
      ]
     },
     "execution_count": 39,
     "metadata": {},
     "output_type": "execute_result"
    }
   ],
   "source": [
    "Image(url='http://wiki.jikexueyuan.com/project/tensorflow-zh/images/mnist-train-xs.png', height=60, width=360)"
   ]
  },
  {
   "cell_type": "code",
   "execution_count": 7,
   "metadata": {},
   "outputs": [
    {
     "data": {
      "text/plain": [
       "array([[0., 0., 0., ..., 1., 0., 0.],\n",
       "       [0., 0., 0., ..., 0., 0., 0.],\n",
       "       [0., 0., 0., ..., 0., 0., 0.],\n",
       "       ...,\n",
       "       [0., 0., 0., ..., 0., 0., 0.],\n",
       "       [0., 0., 0., ..., 0., 0., 0.],\n",
       "       [0., 0., 0., ..., 0., 1., 0.]])"
      ]
     },
     "execution_count": 7,
     "metadata": {},
     "output_type": "execute_result"
    }
   ],
   "source": [
    "mnist.train.labels"
   ]
  },
  {
   "cell_type": "code",
   "execution_count": 8,
   "metadata": {},
   "outputs": [
    {
     "data": {
      "text/plain": [
       "(55000, 10)"
      ]
     },
     "execution_count": 8,
     "metadata": {},
     "output_type": "execute_result"
    }
   ],
   "source": [
    "mnist.train.labels.shape"
   ]
  },
  {
   "cell_type": "code",
   "execution_count": 38,
   "metadata": {},
   "outputs": [
    {
     "data": {
      "text/html": [
       "<img src=\"http://wiki.jikexueyuan.com/project/tensorflow-zh/images/mnist-train-ys.png\" width=\"360\" height=\"60\"/>"
      ],
      "text/plain": [
       "<IPython.core.display.Image object>"
      ]
     },
     "execution_count": 38,
     "metadata": {},
     "output_type": "execute_result"
    }
   ],
   "source": [
    "Image(url='http://wiki.jikexueyuan.com/project/tensorflow-zh/images/mnist-train-ys.png', height=60, width=360)"
   ]
  },
  {
   "cell_type": "code",
   "execution_count": 9,
   "metadata": {},
   "outputs": [],
   "source": [
    "sess = tf.InteractiveSession()"
   ]
  },
  {
   "cell_type": "markdown",
   "metadata": {},
   "source": [
    "tf.argmax 是一个非常有用的函数，它能给出某个tensor对象在某一维上的其数据最大值所在的索引值。由于标签向量是由0,1组成，因此最大值1所在的索引位置就是类别标签，比如tf.argmax(y,1)返回的是模型对于任一输入x预测到的标签值"
   ]
  },
  {
   "cell_type": "code",
   "execution_count": 10,
   "metadata": {
    "scrolled": false
   },
   "outputs": [
    {
     "data": {
      "text/plain": [
       "7"
      ]
     },
     "execution_count": 10,
     "metadata": {},
     "output_type": "execute_result"
    }
   ],
   "source": [
    "tf.argmax(mnist.train.labels[0]).eval()"
   ]
  },
  {
   "cell_type": "code",
   "execution_count": 11,
   "metadata": {},
   "outputs": [
    {
     "data": {
      "text/plain": [
       "8"
      ]
     },
     "execution_count": 11,
     "metadata": {},
     "output_type": "execute_result"
    }
   ],
   "source": [
    "tf.argmax(mnist.train.labels[12345]).eval()"
   ]
  },
  {
   "cell_type": "code",
   "execution_count": null,
   "metadata": {},
   "outputs": [],
   "source": []
  },
  {
   "cell_type": "code",
   "execution_count": 12,
   "metadata": {},
   "outputs": [],
   "source": [
    "img0 = mnist.train.images[0]"
   ]
  },
  {
   "cell_type": "code",
   "execution_count": 13,
   "metadata": {},
   "outputs": [
    {
     "data": {
      "text/plain": [
       "(784,)"
      ]
     },
     "execution_count": 13,
     "metadata": {},
     "output_type": "execute_result"
    }
   ],
   "source": [
    "img0.shape"
   ]
  },
  {
   "cell_type": "code",
   "execution_count": 14,
   "metadata": {},
   "outputs": [],
   "source": [
    "img0 = img0.reshape(28,28)"
   ]
  },
  {
   "cell_type": "code",
   "execution_count": 15,
   "metadata": {},
   "outputs": [
    {
     "data": {
      "text/plain": [
       "<matplotlib.image.AxesImage at 0x12e077f28>"
      ]
     },
     "execution_count": 15,
     "metadata": {},
     "output_type": "execute_result"
    },
    {
     "data": {
      "image/png": "[encoded data removed]",
      "text/plain": [
       "<Figure size 432x288 with 1 Axes>"
      ]
     },
     "metadata": {},
     "output_type": "display_data"
    }
   ],
   "source": [
    "plt.imshow(img0, cmap='Greys')"
   ]
  },
  {
   "cell_type": "code",
   "execution_count": 16,
   "metadata": {},
   "outputs": [
    {
     "data": {
      "text/plain": [
       "<matplotlib.image.AxesImage at 0x12e1eab70>"
      ]
     },
     "execution_count": 16,
     "metadata": {},
     "output_type": "execute_result"
    },
    {
     "data": {
      "image/png": "[encoded data removed]",
      "text/plain": [
       "<Figure size 432x288 with 1 Axes>"
      ]
     },
     "metadata": {},
     "output_type": "display_data"
    }
   ],
   "source": [
    "img12345 = mnist.train.images[12345].reshape(28,28)\n",
    "plt.imshow(img12345,cmap='Greys')"
   ]
  },
  {
   "cell_type": "markdown",
   "metadata": {},
   "source": [
    "# Building"
   ]
  },
  {
   "cell_type": "code",
   "execution_count": 17,
   "metadata": {},
   "outputs": [],
   "source": [
    "learning_rate=0.01 # 步长\n",
    "batch_size=128 # 每次进行一堆，128张图片，以防止所有图片进行梯度下降时太慢\n",
    "n_epochs=30 # 整个graph运行次数"
   ]
  },
  {
   "cell_type": "code",
   "execution_count": 18,
   "metadata": {},
   "outputs": [],
   "source": [
    "X = tf.placeholder(tf.float32, (batch_size, 784), name='X_placeholder') #把28x28的图片拉成一条直线\n",
    "Y = tf.placeholder(tf.int32, (batch_size, 10), name='Y_placeholder')"
   ]
  },
  {
   "cell_type": "code",
   "execution_count": 19,
   "metadata": {},
   "outputs": [],
   "source": [
    "w = tf.Variable(tf.random_normal(shape=[784, 10], stddev=1), name='weights')\n",
    "b = tf.Variable(tf.zeros([1, 10]), name='bias')\n",
    "# w的维度是[784，10]，因为我们想要用784维的图片向量 乘以 它(w) 以得到一个10维的证据值向量，每一位对应不同数字类。\n",
    "# b的形状是[10]，所以我们可以直接把它加到输出上面。"
   ]
  },
  {
   "cell_type": "code",
   "execution_count": 20,
   "metadata": {},
   "outputs": [],
   "source": [
    "logits = tf.matmul(X, w) + b\n",
    "# 定义逻辑回归的线性层"
   ]
  },
  {
   "cell_type": "code",
   "execution_count": 41,
   "metadata": {},
   "outputs": [
    {
     "data": {
      "text/html": [
       "<img src=\"http://wiki.jikexueyuan.com/project/tensorflow-zh/images/softmax-regression-scalargraph.png\" width=\"360\" height=\"60\"/>"
      ],
      "text/plain": [
       "<IPython.core.display.Image object>"
      ]
     },
     "execution_count": 41,
     "metadata": {},
     "output_type": "execute_result"
    }
   ],
   "source": [
    "Image(url='http://wiki.jikexueyuan.com/project/tensorflow-zh/images/softmax-regression-scalargraph.png', height=60, width=360)"
   ]
  },
  {
   "cell_type": "code",
   "execution_count": 42,
   "metadata": {},
   "outputs": [
    {
     "data": {
      "text/html": [
       "<img src=\"http://wiki.jikexueyuan.com/project/tensorflow-zh/images/softmax-regression-scalarequation.png\" width=\"360\" height=\"60\"/>"
      ],
      "text/plain": [
       "<IPython.core.display.Image object>"
      ]
     },
     "execution_count": 42,
     "metadata": {},
     "output_type": "execute_result"
    }
   ],
   "source": [
    "Image(url='http://wiki.jikexueyuan.com/project/tensorflow-zh/images/softmax-regression-scalarequation.png', height=60, width=360)"
   ]
  },
  {
   "cell_type": "code",
   "execution_count": 43,
   "metadata": {},
   "outputs": [
    {
     "data": {
      "text/html": [
       "<img src=\"http://wiki.jikexueyuan.com/project/tensorflow-zh/images/softmax-regression-vectorequation.png\" width=\"360\" height=\"60\"/>"
      ],
      "text/plain": [
       "<IPython.core.display.Image object>"
      ]
     },
     "execution_count": 43,
     "metadata": {},
     "output_type": "execute_result"
    }
   ],
   "source": [
    "Image(url='http://wiki.jikexueyuan.com/project/tensorflow-zh/images/softmax-regression-vectorequation.png', height=60, width=360)"
   ]
  },
  {
   "cell_type": "code",
   "execution_count": 24,
   "metadata": {},
   "outputs": [],
   "source": [
    "# 求softmax\n",
    "# y = tf.nn.softmax(tf.matmul(X, w) + b)"
   ]
  },
  {
   "cell_type": "code",
   "execution_count": 25,
   "metadata": {},
   "outputs": [],
   "source": [
    "# 定义 loss function using cross entropy sum( -y_true * log (y_pred))\n",
    "\n",
    "# y_ = tf.placeholder(\"float\", [None,10])\n",
    "# cross_entropy = tf.reduce_mean(-tf.reduce_sum(y_ * tf.log(y), reduction_indices=[1]))\n",
    "\n",
    "# 这里 tf.reduce_sum 沿着 1 的方向加和所有的y 然后 tf.reduce_mean 求出每一个 batch 的平均值"
   ]
  },
  {
   "cell_type": "code",
   "execution_count": 26,
   "metadata": {},
   "outputs": [],
   "source": [
    "entropy = tf.nn.softmax_cross_entropy_with_logits_v2(logits=logits, labels=Y, name='loss')\n",
    "loss = tf.reduce_mean(entropy) # every batch's loss, then we need to train loss and minimize loss"
   ]
  },
  {
   "cell_type": "code",
   "execution_count": 27,
   "metadata": {},
   "outputs": [],
   "source": [
    "optimizer = tf.train.GradientDescentOptimizer(learning_rate).minimize(loss)"
   ]
  },
  {
   "cell_type": "markdown",
   "metadata": {},
   "source": [
    "TensorFlow有大量内置的优化算法 这个例子中，我们用最速下降法让交叉熵下降，步长为0.01.\n",
    "\n",
    "train_step = tf.train.GradientDescentOptimizer(0.01).minimize(entropy)\n",
    "\n",
    "这一行代码实际上是用来往计算图上添加一个新操作，其中包括计算梯度，计算每个参数的步长变化，并且计算出新的参数值。\n",
    "\n",
    "返回的train_step操作对象，在运行时会使用梯度下降来更新参数。因此，整个模型的训练可以通过反复地运行train_step来完成。"
   ]
  },
  {
   "cell_type": "code",
   "execution_count": 28,
   "metadata": {},
   "outputs": [],
   "source": [
    "with tf.name_scope('summaries'):   \n",
    "    tf.summary.scalar('loss',loss)\n",
    "    merged_summaries = tf.summary.merge_all()"
   ]
  },
  {
   "cell_type": "code",
   "execution_count": null,
   "metadata": {},
   "outputs": [],
   "source": []
  },
  {
   "cell_type": "code",
   "execution_count": null,
   "metadata": {},
   "outputs": [],
   "source": []
  },
  {
   "cell_type": "markdown",
   "metadata": {},
   "source": [
    "# Executing"
   ]
  },
  {
   "cell_type": "code",
   "execution_count": 30,
   "metadata": {},
   "outputs": [
    {
     "name": "stdout",
     "output_type": "stream",
     "text": [
      "Average loss for epoch 0: 8.037450131280718\n",
      "Average loss for epoch 1: 4.752156212613299\n",
      "Average loss for epoch 2: 3.4434380064477454\n",
      "Average loss for epoch 3: 2.8052559337971648\n",
      "Average loss for epoch 4: 2.399935772091081\n",
      "Average loss for epoch 5: 2.1309490562318922\n",
      "Average loss for epoch 6: 1.9266612938234022\n",
      "Average loss for epoch 7: 1.768089159663185\n",
      "Average loss for epoch 8: 1.652327674530047\n",
      "Average loss for epoch 9: 1.5628009699719214\n",
      "Average loss for epoch 10: 1.474009680442321\n",
      "Average loss for epoch 11: 1.4030665193960106\n",
      "Average loss for epoch 12: 1.343519425475514\n",
      "Average loss for epoch 13: 1.2949874198242224\n",
      "Average loss for epoch 14: 1.2430871904313148\n",
      "Average loss for epoch 15: 1.2101292961683028\n",
      "Average loss for epoch 16: 1.1668616923696788\n",
      "Average loss for epoch 17: 1.1370011618087341\n",
      "Average loss for epoch 18: 1.1116331152982646\n",
      "Average loss for epoch 19: 1.079182086013136\n",
      "Average loss for epoch 20: 1.0553105140065813\n",
      "Average loss for epoch 21: 1.0366384123727714\n",
      "Average loss for epoch 22: 1.0150881366574125\n",
      "Average loss for epoch 23: 0.9863164722224771\n",
      "Average loss for epoch 24: 0.9772421361266316\n",
      "Average loss for epoch 25: 0.9571473993065752\n",
      "Average loss for epoch 26: 0.9398881306737175\n",
      "Average loss for epoch 27: 0.9261920418772664\n",
      "Average loss for epoch 28: 0.908055105131545\n",
      "Average loss for epoch 29: 0.8967651016228683\n",
      "Total running time: 27.96530294418335 seconds\n",
      "Amazing We Made it!\n",
      "Accuracy on the testing sets is0.8251\n"
     ]
    }
   ],
   "source": [
    "with tf.Session() as sess:\n",
    "    # visualization on tensorboard\n",
    "    writer = tf.summary.FileWriter('./mnist_graph', sess.graph, filename_suffix='_Ex2_MNIST')\n",
    "    start_time = time.time()\n",
    "    sess.run(tf.global_variables_initializer())\n",
    "    n_batches = int(mnist.train.num_examples/batch_size)\n",
    "    \n",
    "    for i in range(n_epochs): # train the model n_epochs times\n",
    "        total_loss = 0\n",
    "        for batch in range(n_batches):\n",
    "            X_batch, Y_batch = mnist.train.next_batch(batch_size) # randomly select batch_size samples in dataset\n",
    "            _, loss_batch = sess.run([optimizer, loss], feed_dict={X: X_batch, Y: Y_batch})\n",
    "            total_loss += loss_batch\n",
    "        print('Average loss for epoch {0}: {1}'.format(i, total_loss/n_batches))        \n",
    "        \n",
    "    print('Total running time: {0} seconds'.format(time.time() - start_time))\n",
    "    print('Amazing We Made it!') # should be around 0.35 after 25 epochs\n",
    "    \n",
    "    # test the model\n",
    "    preds = tf.nn.softmax(logits)\n",
    "    correct_preds = tf.equal(tf.argmax(preds,1), tf.argmax(Y,1))\n",
    "    # 这行代码会给我们一组布尔值。为了确定正确预测项的比例，我们可以把布尔值转换成浮点数，然后取平均值。\n",
    "    # 例如，[True, False, True, True] 会变成 [1,0,1,1] ，取平均值后得到 0.75\n",
    "    count_of_right_predictions = tf.reduce_sum(tf.cast(correct_preds, tf.float32)) \n",
    "    \n",
    "    n_batches = int(mnist.test.num_examples/batch_size)\n",
    "    total_correct_preds = 0\n",
    "    \n",
    "    for batch in range(n_batches):\n",
    "        X_batch, Y_batch = mnist.test.next_batch(batch_size)\n",
    "        count_of_right_predictions_per_batch = sess.run(count_of_right_predictions, feed_dict={X: X_batch, Y:Y_batch})\n",
    "        total_correct_preds += count_of_right_predictions_per_batch\n",
    "\n",
    "    print('Accuracy on the testing sets is{0}'.format(total_correct_preds/mnist.test.num_examples))\n",
    "\n",
    "    writer.close()"
   ]
  },
  {
   "cell_type": "code",
   "execution_count": 31,
   "metadata": {},
   "outputs": [
    {
     "name": "stdout",
     "output_type": "stream",
     "text": [
      "TensorBoard 1.9.0 at http://OSdeMac.local:6006 (Press CTRL+C to quit)\n",
      "\u001b[33mW0718 18:03:26.297056 Thread-1 application.py:293] path /[[_dataImageSrc]] not found, sending 404\n",
      "\u001b[0m\u001b[33mW0718 18:03:26.300730 Thread-2 application.py:293] path /[[_imageURL]] not found, sending 404\n",
      "\u001b[0m^C\n"
     ]
    }
   ],
   "source": [
    "!tensorboard --logdir=./mnist_graph"
   ]
  },
  {
   "cell_type": "code",
   "execution_count": null,
   "metadata": {},
   "outputs": [],
   "source": []
  }
 ],
 "metadata": {
  "kernelspec": {
   "display_name": "Python 3",
   "language": "python",
   "name": "python3"
  },
  "language_info": {
   "codemirror_mode": {
    "name": "ipython",
    "version": 3
   },
   "file_extension": ".py",
   "mimetype": "text/x-python",
   "name": "python",
   "nbconvert_exporter": "python",
   "pygments_lexer": "ipython3",
   "version": "3.6.3"
  }
 },
 "nbformat": 4,
 "nbformat_minor": 2
}
