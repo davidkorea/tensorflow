{
 "cells": [
  {
   "cell_type": "code",
   "execution_count": 1,
   "metadata": {},
   "outputs": [],
   "source": [
    "import tensorflow as tf\n",
    "import numpy as np"
   ]
  },
  {
   "cell_type": "markdown",
   "metadata": {},
   "source": [
    "在这个例子中 我们需要构建5块内容：\n",
    "\n",
    "- variable： 用于存储两个变量\n",
    "    - 训练次数, 不参与训练\n",
    "    - output\n",
    "   \n",
    "- transformation： 对输入参数进行变形\n",
    "    - 采用 placeholder\n",
    "\n",
    "- update： 更新的规律\n",
    "\n",
    "- summary 用于 tensor board scalars\n",
    "\n",
    "- global_operations\n",
    "    - 初始化参数\n",
    "    - merge summary"
   ]
  },
  {
   "cell_type": "markdown",
   "metadata": {},
   "source": [
    "# 0. Preparations\n",
    "## 0.1 tf.Variable()\n",
    "``` tf.Variable(0.0, dtype=tf.int32, trainable=False, name='var')```"
   ]
  },
  {
   "cell_type": "code",
   "execution_count": 2,
   "metadata": {},
   "outputs": [
    {
     "data": {
      "text/plain": [
       "array([[ 1.0813802,  1.4436212],\n",
       "       [-0.2545665,  1.0984017]], dtype=float32)"
      ]
     },
     "execution_count": 2,
     "metadata": {},
     "output_type": "execute_result"
    }
   ],
   "source": [
    "rand_var = tf.Variable(tf.random_normal([2,2]), trainable=False, name='var_random')\n",
    "init = tf.variables_initializer([rand_var], name='rand_var')\n",
    "\n",
    "sess0 = tf.Session()\n",
    "sess0.run(init)\n",
    "sess0.run(rand_var)\n",
    "# trainable=False, 不需要放在模型里进行训练\n",
    "# 定义variable - initialize variable\n",
    "# run init - run variable "
   ]
  },
  {
   "cell_type": "markdown",
   "metadata": {},
   "source": [
    "## 0.2 tf.placeholder()\n",
    "```tf.placeholder(dtype, shape=None, name=None)```, shape=(None) 什么形状都可以"
   ]
  },
  {
   "cell_type": "code",
   "execution_count": 3,
   "metadata": {},
   "outputs": [
    {
     "data": {
      "text/plain": [
       "240"
      ]
     },
     "execution_count": 3,
     "metadata": {},
     "output_type": "execute_result"
    }
   ],
   "source": [
    "a = tf.placeholder(tf.int32, shape=[5], name='input_a')\n",
    "b = tf.reduce_prod(a, name='input_b')\n",
    "c = tf.add(b,b, name='input_c')\n",
    "\n",
    "sess0 = tf.Session()\n",
    "\n",
    "input_dict = {a: np.array([1,2,3,4,5])}\n",
    "\n",
    "sess0.run(c, feed_dict=input_dict)"
   ]
  },
  {
   "cell_type": "code",
   "execution_count": 4,
   "metadata": {},
   "outputs": [],
   "source": [
    "sess0.close()"
   ]
  },
  {
   "cell_type": "markdown",
   "metadata": {},
   "source": [
    "## 0.3 graph，name_scope"
   ]
  },
  {
   "cell_type": "markdown",
   "metadata": {},
   "source": [
    "-----"
   ]
  },
  {
   "cell_type": "markdown",
   "metadata": {},
   "source": [
    "-----"
   ]
  },
  {
   "cell_type": "markdown",
   "metadata": {},
   "source": [
    "# 1. Main"
   ]
  },
  {
   "cell_type": "code",
   "execution_count": 5,
   "metadata": {},
   "outputs": [],
   "source": [
    "mygraph = tf.Graph() # Create a Graph to start (note: this is not necessary)"
   ]
  },
  {
   "cell_type": "code",
   "execution_count": 6,
   "metadata": {},
   "outputs": [],
   "source": [
    "with mygraph.as_default():\n",
    "    with tf.name_scope('variables'):\n",
    "        global_step = tf.Variable(0, dtype=tf.int32, trainable=False, name='global_step')\n",
    "        total_outputs = tf.Variable(0.0, dtype=tf.float32, trainable=False, name='total_outputs')\n",
    "        \n",
    "    with tf.name_scope('transformation'):\n",
    "        with tf.name_scope('input'):\n",
    "            a = tf.placeholder(tf.float32, shape=(None), name='input_placeholder_a')\n",
    "        with tf.name_scope('middle'):\n",
    "            b = tf.reduce_prod(a, name='production_b') # 乘法缩小a，全乘降低维度\n",
    "            c = tf.reduce_sum(a, name='sum_c')\n",
    "        with tf.name_scope('output'):\n",
    "            output = tf.add(b,c, name='output')\n",
    "    \n",
    "    with tf.name_scope('update'):\n",
    "        update_total = total_outputs.assign_add(output) #初始0 + output数值，算出总output\n",
    "        total_step = global_step.assign_add(1) # 初始0， 每次+1\n",
    "        \n",
    "    with tf.name_scope('summary'):\n",
    "        average = tf.div(update_total, tf.cast(total_step, tf.float32), name='average') \n",
    "        # 总和 除以 总步数 = 平均每一步的和\n",
    "        # tf.cast() 数据类型转换int32 -> float32\n",
    "        tf.summary.scalar('output_summary', output) #每一步的数值\n",
    "        tf.summary.scalar('total_summary', update_total) #全部输出的总和\n",
    "        tf.summary.scalar('average_summary', average) #平均每一步的和\n",
    "        \n",
    "    with tf.name_scope('global_operations'):\n",
    "        init = tf.global_variables_initializer()\n",
    "        # tf.Variable()定义了变量后，需要再用tf.variables_initializer()初始化\n",
    "        merged_summaries = tf.summary.merge_all()"
   ]
  },
  {
   "cell_type": "markdown",
   "metadata": {},
   "source": [
    "# Running the graph: Session"
   ]
  },
  {
   "cell_type": "code",
   "execution_count": 7,
   "metadata": {},
   "outputs": [],
   "source": [
    "sess = tf.Session(graph=mygraph)\n",
    "summary_writer = tf.summary.FileWriter('./my_graph', sess.graph, filename_suffix='_Ex1')"
   ]
  },
  {
   "cell_type": "code",
   "execution_count": 8,
   "metadata": {},
   "outputs": [],
   "source": [
    "sess.run(init)"
   ]
  },
  {
   "cell_type": "code",
   "execution_count": 9,
   "metadata": {},
   "outputs": [],
   "source": [
    "def run_graph(input_tensor):\n",
    "    feed_dict = {a: input_tensor}\n",
    "    outputs, step, summary = sess.run([output, total_step, merged_summaries], feed_dict=feed_dict)\n",
    "    print('outputs = ', outputs)\n",
    "    print('step = ', step)\n",
    "    print()\n",
    "    summary_writer.add_summary(summary, global_step=step)\n",
    "    summary_writer.add_graph(sess.graph)"
   ]
  },
  {
   "cell_type": "code",
   "execution_count": 10,
   "metadata": {},
   "outputs": [
    {
     "name": "stdout",
     "output_type": "stream",
     "text": [
      "outputs =  26.0\n",
      "step =  1\n",
      "\n",
      "outputs =  8.0\n",
      "step =  2\n",
      "\n",
      "outputs =  10.0\n",
      "step =  3\n",
      "\n",
      "outputs =  835.0\n",
      "step =  4\n",
      "\n",
      "outputs =  1.0\n",
      "step =  5\n",
      "\n",
      "outputs =  1.0\n",
      "step =  6\n",
      "\n"
     ]
    }
   ],
   "source": [
    "run_graph([2,8])\n",
    "run_graph([3,1,1])\n",
    "run_graph([5])\n",
    "run_graph([2,5,9,9])\n",
    "run_graph([1,0,0])\n",
    "run_graph([[1],[0],[0]])"
   ]
  },
  {
   "cell_type": "code",
   "execution_count": 11,
   "metadata": {},
   "outputs": [],
   "source": [
    "summary_writer.flush()"
   ]
  },
  {
   "cell_type": "code",
   "execution_count": 12,
   "metadata": {},
   "outputs": [],
   "source": [
    "summary_writer.close()\n",
    "sess.close()"
   ]
  },
  {
   "cell_type": "code",
   "execution_count": 13,
   "metadata": {},
   "outputs": [
    {
     "name": "stdout",
     "output_type": "stream",
     "text": [
      "\u001b[33mW0717 23:33:16.587371 Reloader tf_logging.py:120] Found more than one graph event per run, or there was a metagraph containing a graph_def, as well as one or more graph events.  Overwriting the graph with the newest event.\n",
      "\u001b[0m\u001b[33mW0717 23:33:16.588984 Reloader tf_logging.py:120] Found more than one graph event per run, or there was a metagraph containing a graph_def, as well as one or more graph events.  Overwriting the graph with the newest event.\n",
      "\u001b[0m\u001b[33mW0717 23:33:16.590246 Reloader tf_logging.py:120] Found more than one graph event per run, or there was a metagraph containing a graph_def, as well as one or more graph events.  Overwriting the graph with the newest event.\n",
      "\u001b[0m\u001b[33mW0717 23:33:16.591766 Reloader tf_logging.py:120] Found more than one graph event per run, or there was a metagraph containing a graph_def, as well as one or more graph events.  Overwriting the graph with the newest event.\n",
      "\u001b[0m\u001b[33mW0717 23:33:16.592964 Reloader tf_logging.py:120] Found more than one graph event per run, or there was a metagraph containing a graph_def, as well as one or more graph events.  Overwriting the graph with the newest event.\n",
      "\u001b[0m\u001b[33mW0717 23:33:16.594081 Reloader tf_logging.py:120] Found more than one graph event per run, or there was a metagraph containing a graph_def, as well as one or more graph events.  Overwriting the graph with the newest event.\n",
      "\u001b[0mTensorBoard 1.9.0 at http://OSdeMac.local:6006 (Press CTRL+C to quit)\n",
      "^C\n"
     ]
    }
   ],
   "source": [
    "!tensorboard --logdir=./my_graph"
   ]
  },
  {
   "cell_type": "code",
   "execution_count": null,
   "metadata": {},
   "outputs": [],
   "source": []
  }
 ],
 "metadata": {
  "kernelspec": {
   "display_name": "Python 3",
   "language": "python",
   "name": "python3"
  },
  "language_info": {
   "codemirror_mode": {
    "name": "ipython",
    "version": 3
   },
   "file_extension": ".py",
   "mimetype": "text/x-python",
   "name": "python",
   "nbconvert_exporter": "python",
   "pygments_lexer": "ipython3",
   "version": "3.6.3"
  }
 },
 "nbformat": 4,
 "nbformat_minor": 2
}
