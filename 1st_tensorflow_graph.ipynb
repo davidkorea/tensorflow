{
  "cells": [
    {
      "metadata": {
        "_uuid": "8f2839f25d086af736a60e9eeb907d3b93b6e0e5",
        "_cell_guid": "b1076dfc-b9ad-4769-8c92-a6c4dae69d19",
        "trusted": true
      },
      "cell_type": "code",
      "source": "import numpy as np # linear algebra\nimport tensorflow as tf",
      "execution_count": 1,
      "outputs": []
    },
    {
      "metadata": {
        "_cell_guid": "79c7e3d0-c299-4dcb-8224-4455121ee9b0",
        "_uuid": "d629ff2d2480ee46fbb7e2d37f6b5fab8052498a",
        "trusted": true
      },
      "cell_type": "code",
      "source": "mygraph = tf.Graph() # 创建一个名为mygraph的计算图，可以不创建使用默认的图",
      "execution_count": 2,
      "outputs": []
    },
    {
      "metadata": {
        "trusted": true,
        "_uuid": "d949edc922e8d8c3ea027e83f2422ec4a2672ae5"
      },
      "cell_type": "code",
      "source": "with mygraph.as_default(): # 将mygraph计算图设置为当前使用的图。同一个graph下不同命名空间的变量可以相互调用\n    with tf.name_scope('variables'): \n        global_step = tf.Variable(0, dtype=tf.int32, trainable=False, name='global_step')\n        total_outputs = tf.Variable(0.0, dtype=tf.float32, trainable=False, name='total_outputs')\n        # 创建两个 tf.Variable() 用于存储可变数值，因为全局步数和总输出需要根据程序运行，增加相应数值。需要initial Variable变量\n    with tf.name_scope('transformation'):\n        with tf.name_scope('input'):\n            a = tf.placeholder(tf.float32, shape=(None), name='input_placeholder_a') \n            # 输入数值一般使用占位符，以免大量数据保存在graph中，减慢加载速度\n        with tf.name_scope('middle'):\n            b = tf.reduce_prod(a, name='reduce_prod_b') # 全部元素相乘\n            c = tf.reduce_sum(a, name='reduce_sum_c') # 全部元素相加\n        with tf.name_scope('output'):\n            output = tf.add(b,c,name='output')\n    with tf.name_scope('update'):\n        update_total = total_outputs.assign_add(output) # assign_add()累加，i += 1\n        total_step = global_step.assign_add(1)\n        \n    with tf.name_scope('summaries'):\n        average = tf.div(update_total, tf.cast(total_step, tf.float32), name='average') #tf.cast()转换数据类型\n        tf.summary.scalar('output_summary', output)\n        tf.summary.scalar('total_output_summary', update_total)\n        tf.summary.scalar('average_summary', average)\n        # tf.summary.scalar() Outputs a `Summary` protocol buffer containing a single scalar value.\n\n    with tf.name_scope('global_operations'):\n        init = tf.global_variables_initializer() # 初始化全部 tf.Variable()变量\n        merged_summaries = tf.summary.merge_all() # 将上面所有的summary合并在一起\n        ",
      "execution_count": 3,
      "outputs": []
    },
    {
      "metadata": {
        "trusted": true,
        "_uuid": "2bbbdfae304ed25f7d7880cf3b6e1634a14128a0"
      },
      "cell_type": "code",
      "source": "sess = tf.Session(graph=mygraph) # 运行绘画，指定要运行哪一个计算图\nsummary_writer = tf.summary.FileWriter('./mygraph', sess.graph)",
      "execution_count": 4,
      "outputs": []
    },
    {
      "metadata": {
        "trusted": true,
        "_uuid": "ce6d5018bcb5eceb6b50f739e42a04688209caea"
      },
      "cell_type": "code",
      "source": "sess.run(init)",
      "execution_count": 5,
      "outputs": []
    },
    {
      "metadata": {
        "trusted": true,
        "_uuid": "a31ae08a30e1a8d5e7f1b975188b4f10205dc555"
      },
      "cell_type": "code",
      "source": "def run_graph(input_tensor):\n    input_dict = {a: input_tensor}\n    outputs, step, summary = sess.run([output, global_step, merged_summaries], feed_dict=input_dict)\n    print('outputs: ',outputs)\n    print('step: ', step)\n    summary_writer.add_summary(summary, global_step=step)\n    # summary_writer.add_summary(summary, global_step=None)\n    # Adds a `Summary` protocol buffer to the event file.\n    summary_writer.add_graph(sess.graph)\n    # summary_writer.add_graph(graph, global_step=None, graph_def=None)\n    # Adds a `Graph` to the event file.",
      "execution_count": 6,
      "outputs": []
    },
    {
      "metadata": {
        "trusted": true,
        "_uuid": "ed61105f703a0d3b29f4ddb6b1bcd605598138b3"
      },
      "cell_type": "code",
      "source": "run_graph([2,8])\nrun_graph([3,1,1])\nrun_graph([5])\nrun_graph([2,5,9,9])\nrun_graph([1,0,0])\nrun_graph([[1],[0],[0]])",
      "execution_count": 7,
      "outputs": [
        {
          "output_type": "stream",
          "text": "outputs:  26.0\nstep:  1\noutputs:  8.0\nstep:  2\noutputs:  10.0\nstep:  3\noutputs:  835.0\nstep:  4\noutputs:  1.0\nstep:  5\noutputs:  1.0\nstep:  6\n",
          "name": "stdout"
        }
      ]
    },
    {
      "metadata": {
        "trusted": true,
        "_uuid": "90c8745e98e52fd81a5e5f9467664591c4ebbe17"
      },
      "cell_type": "code",
      "source": "summary_writer.close()\nsess.close()",
      "execution_count": 8,
      "outputs": []
    },
    {
      "metadata": {
        "trusted": true,
        "_uuid": "c5b4785c1a35bf779d6356e879d9326c56e5e1a6"
      },
      "cell_type": "code",
      "source": "!wget https://bin.equinox.io/c/4VmDzA7iaHb/ngrok-stable-linux-amd64.zip\n!unzip ngrok-stable-linux-amd64.zip\nLOG_DIR = './mygraph' # Here you have to put your log directory\nget_ipython().system_raw(\n    'tensorboard --logdir {} --host 0.0.0.0 --port 6006 &'\n    .format(LOG_DIR)\n)\nget_ipython().system_raw('./ngrok http 6006 &')\n! curl -s http://localhost:4040/api/tunnels | python3 -c \\\n    \"import sys, json; print(json.load(sys.stdin)['tunnels'][0]['public_url'])\"",
      "execution_count": 9,
      "outputs": [
        {
          "output_type": "stream",
          "text": "--2018-11-20 02:15:55--  https://bin.equinox.io/c/4VmDzA7iaHb/ngrok-stable-linux-amd64.zip\nResolving bin.equinox.io (bin.equinox.io)... 52.72.245.79, 52.73.9.93, 52.71.139.107, ...\nConnecting to bin.equinox.io (bin.equinox.io)|52.72.245.79|:443... connected.\nHTTP request sent, awaiting response... 200 OK\nLength: 5363700 (5.1M) [application/octet-stream]\nSaving to: ‘ngrok-stable-linux-amd64.zip’\n\nngrok-stable-linux- 100%[===================>]   5.11M  --.-KB/s    in 0.1s    \n\n2018-11-20 02:15:55 (44.1 MB/s) - ‘ngrok-stable-linux-amd64.zip’ saved [5363700/5363700]\n\nArchive:  ngrok-stable-linux-amd64.zip\n  inflating: ngrok                   \nhttps://3f1cbbc2.ngrok.io\n",
          "name": "stdout"
        }
      ]
    },
    {
      "metadata": {
        "trusted": true,
        "_uuid": "6901b2ab4ee79e9fc4517a50955d596b00d2c2cc"
      },
      "cell_type": "markdown",
      "source": "1. Tensorboard - Scalar\n![](https://i.loli.net/2018/11/20/5bf36fe62c9e8.png)\n\n2. Tensorboard - Graph\n![](https://i.loli.net/2018/11/20/5bf36fe66c7a2.png)\n![](https://i.loli.net/2018/11/20/5bf370b153c76.png)"
    },
    {
      "metadata": {
        "trusted": true,
        "_uuid": "a2aae2d30ea73e709ffc042aa5ddea50fae1a7de"
      },
      "cell_type": "markdown",
      "source": "Reference：Wanmen 36.12"
    },
    {
      "metadata": {
        "trusted": true,
        "_uuid": "f9f268120630cda4976dcf7d5cb947261f3ecf2a"
      },
      "cell_type": "code",
      "source": "",
      "execution_count": null,
      "outputs": []
    }
  ],
  "metadata": {
    "kernelspec": {
      "display_name": "Python 3",
      "language": "python",
      "name": "python3"
    },
    "language_info": {
      "name": "python",
      "version": "3.6.6",
      "mimetype": "text/x-python",
      "codemirror_mode": {
        "name": "ipython",
        "version": 3
      },
      "pygments_lexer": "ipython3",
      "nbconvert_exporter": "python",
      "file_extension": ".py"
    }
  },
  "nbformat": 4,
  "nbformat_minor": 1
}