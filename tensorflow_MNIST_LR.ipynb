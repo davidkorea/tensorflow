{
  "cells": [
    {
      "metadata": {
        "_uuid": "ecf266750f48611db37889cbdbdebc788183c02b"
      },
      "cell_type": "markdown",
      "source": "1.  **Logistic Regression** 常用于 二分类 的场合，\n2. **Softmax Regression** (又名 Multinomial Logistic Regression) 就是 Logistic Regression 在 多类别 场合下的推广，这种推广并不需要训练或者结合多个二分类分类器。\n"
    },
    {
      "metadata": {
        "_uuid": "8f2839f25d086af736a60e9eeb907d3b93b6e0e5",
        "_cell_guid": "b1076dfc-b9ad-4769-8c92-a6c4dae69d19",
        "trusted": true
      },
      "cell_type": "code",
      "source": "import numpy as np # linear algebra\nimport pandas as pd # data processing, CSV file I/O (e.g. pd.read_csv)\nimport tensorflow as tf\nfrom tensorflow.examples.tutorials.mnist import input_data\nimport os\nimport time",
      "execution_count": 1,
      "outputs": []
    },
    {
      "metadata": {
        "trusted": true,
        "_uuid": "0a3f0e0279315c818e3e435911019b74377fb725"
      },
      "cell_type": "code",
      "source": "input_data",
      "execution_count": 2,
      "outputs": [
        {
          "output_type": "execute_result",
          "execution_count": 2,
          "data": {
            "text/plain": "<module 'tensorflow.examples.tutorials.mnist.input_data' from '/opt/conda/lib/python3.6/site-packages/tensorflow/examples/tutorials/mnist/input_data.py'>"
          },
          "metadata": {}
        }
      ]
    },
    {
      "metadata": {
        "_cell_guid": "79c7e3d0-c299-4dcb-8224-4455121ee9b0",
        "_uuid": "d629ff2d2480ee46fbb7e2d37f6b5fab8052498a",
        "trusted": true
      },
      "cell_type": "code",
      "source": "mnist = input_data.read_data_sets('./data',one_hot=True)",
      "execution_count": 3,
      "outputs": [
        {
          "output_type": "stream",
          "text": "Successfully downloaded train-images-idx3-ubyte.gz 9912422 bytes.\nExtracting ./data/train-images-idx3-ubyte.gz\nSuccessfully downloaded train-labels-idx1-ubyte.gz 28881 bytes.\nExtracting ./data/train-labels-idx1-ubyte.gz\nSuccessfully downloaded t10k-images-idx3-ubyte.gz 1648877 bytes.\nExtracting ./data/t10k-images-idx3-ubyte.gz\nSuccessfully downloaded t10k-labels-idx1-ubyte.gz 4542 bytes.\nExtracting ./data/t10k-labels-idx1-ubyte.gz\n",
          "name": "stdout"
        }
      ]
    },
    {
      "metadata": {
        "trusted": true,
        "_uuid": "1bd72d261f6a6dbef9057c2847a3668b41aaef34"
      },
      "cell_type": "code",
      "source": "os.listdir('./data/')",
      "execution_count": 4,
      "outputs": [
        {
          "output_type": "execute_result",
          "execution_count": 4,
          "data": {
            "text/plain": "['t10k-images-idx3-ubyte.gz',\n 'train-images-idx3-ubyte.gz',\n 'train-labels-idx1-ubyte.gz',\n 't10k-labels-idx1-ubyte.gz']"
          },
          "metadata": {}
        }
      ]
    },
    {
      "metadata": {
        "trusted": true,
        "_uuid": "0330b9dac31c41033c7292848932162096139580"
      },
      "cell_type": "code",
      "source": "learning_rate = 0.1\nbatch_size = 128\nn_epochs = 30",
      "execution_count": 5,
      "outputs": []
    },
    {
      "metadata": {
        "trusted": true,
        "_uuid": "03c76651f40acc61b6eae33998bc09a4a861c553"
      },
      "cell_type": "code",
      "source": "x = tf.placeholder(tf.float32, shape=(batch_size, 784), name='placeholder_x')\ny = tf.placeholder(tf.int32, shape=(batch_size, 10), name='placeholder_y')",
      "execution_count": 6,
      "outputs": []
    },
    {
      "metadata": {
        "trusted": true,
        "_uuid": "99e85099018514b09eaef8eb764d0512a9ad0930"
      },
      "cell_type": "code",
      "source": "w = tf.Variable(tf.random_normal(shape=(784,10), mean=0.0, stddev=0.01), name='weights')\nb = tf.Variable(tf.zeros(shape=(10)), name='bias') # Or shape=(1, 10), both ok",
      "execution_count": 7,
      "outputs": []
    },
    {
      "metadata": {
        "trusted": true,
        "_uuid": "4b5eed8499cc7b0013ada8f1fcb676c26d72e7e8"
      },
      "cell_type": "code",
      "source": "logits = tf.matmul(x,w)+b",
      "execution_count": 8,
      "outputs": []
    },
    {
      "metadata": {
        "trusted": true,
        "_uuid": "94ca2e707e77c2bc2005fdfd05a2e2deb658c109"
      },
      "cell_type": "code",
      "source": "cross_entropy = tf.nn.softmax_cross_entropy_with_logits(logits=logits, labels=y,name='cross_entropy_loss')\nloss = tf.reduce_mean(cross_entropy)",
      "execution_count": 9,
      "outputs": []
    },
    {
      "metadata": {
        "trusted": true,
        "_uuid": "b2005c8a5137ae0f0df84bc576a357ef9baf39fe"
      },
      "cell_type": "code",
      "source": "optimizer = tf.train.GradientDescentOptimizer(learning_rate).minimize(loss)",
      "execution_count": 10,
      "outputs": []
    },
    {
      "metadata": {
        "trusted": true,
        "_uuid": "1d76dd3c1392510148fe2a10cac3d680a8c19308"
      },
      "cell_type": "code",
      "source": "with tf.name_scope('summaries'):\n    tf.summary.scalar('loss', loss)\n    merged_summaries = tf.summary.merge_all()",
      "execution_count": 11,
      "outputs": []
    },
    {
      "metadata": {
        "trusted": true,
        "_uuid": "e6fd4cf7d6a44f32f374a5be7e0b55e7cb00001e"
      },
      "cell_type": "code",
      "source": "with tf.Session() as sess:\n    writer = tf.summary.FileWriter('./MNIST_LR', sess.graph)\n    start_time = time.time()\n    sess.run(tf.global_variables_initializer())\n    n_batches = int(mnist.train.num_examples / batch_size) # 55000/128 = 429.6875 ->int 429\n    \n    for i in range(n_epochs):\n        total_loss = 0.0\n        \n        for j in range(n_batches):\n            x_batch, y_batch = mnist.train.next_batch(batch_size)\n            # 该循环的每个步骤中，会随机抓取训练数据中的100个批处理数据点, 随机训练（stochastic training）\n            _, loss_batch = sess.run([optimizer, loss], feed_dict={x:x_batch,y:y_batch})\n            total_loss += loss_batch\n        \n        print('Mean Loss for epoch_{}, {}'.format(i, total_loss/n_batches))\n    \n    print('Total running time: {}'.format(time.time() - start_time))\n    print('Finished Training')\n    \n    # Test model\n    y_pred_test = tf.nn.softmax(logits=logits)\n    correct_pred = tf.equal(tf.argmax(y_pred_test,1), tf.argmax(y,1)) # 1：按行计算，找出最大值的index\n    count_correct_pred = tf.reduce_sum(tf.cast(correct_pred, tf.float32))\n    \n    n_batches = int(mnist.test.num_examples/batch_size)\n    total_correct_pred = 0\n    for i in range(n_batches):\n        x_batch,y_batch = mnist.test.next_batch(batch_size)\n        count_correct_pred_per_batch = sess.run(count_correct_pred, feed_dict={x:x_batch,y:y_batch})\n        total_correct_pred += count_correct_pred_per_batch\n    print('Accuracy on TEST set: ',total_correct_pred/mnist.test.num_examples)\n          \n    writer.close()\n          ",
      "execution_count": 12,
      "outputs": [
        {
          "output_type": "stream",
          "text": "Mean Loss for epoch_0, 0.5904954635041021\nMean Loss for epoch_1, 0.3814849774320642\nMean Loss for epoch_2, 0.3492606397205855\nMean Loss for epoch_3, 0.3314374920093652\nMean Loss for epoch_4, 0.32027248833285066\nMean Loss for epoch_5, 0.311461668748122\nMean Loss for epoch_6, 0.3062028355531759\nMean Loss for epoch_7, 0.3014088851032835\nMean Loss for epoch_8, 0.2976602988018023\nMean Loss for epoch_9, 0.29298091191789766\nMean Loss for epoch_10, 0.2918372745766784\nMean Loss for epoch_11, 0.2886862069507301\nMean Loss for epoch_12, 0.28457754162641674\nMean Loss for epoch_13, 0.2847773392092098\nMean Loss for epoch_14, 0.28349766246366614\nMean Loss for epoch_15, 0.2796896083024276\nMean Loss for epoch_16, 0.27927566585424063\nMean Loss for epoch_17, 0.2776003909451422\nMean Loss for epoch_18, 0.2767240896925226\nMean Loss for epoch_19, 0.2764255972036393\nMean Loss for epoch_20, 0.27306254454703877\nMean Loss for epoch_21, 0.2731436590700994\nMean Loss for epoch_22, 0.27238364126924036\nMean Loss for epoch_23, 0.2699941945173246\nMean Loss for epoch_24, 0.27128993766707976\nMean Loss for epoch_25, 0.26982308616796574\nMean Loss for epoch_26, 0.27056114406852455\nMean Loss for epoch_27, 0.26621664827798075\nMean Loss for epoch_28, 0.26739298692950003\nMean Loss for epoch_29, 0.267705333729585\nTotal running time: 21.02198362350464\nFinished Training\nAccuracy on TEST set:  0.9218\n",
          "name": "stdout"
        }
      ]
    },
    {
      "metadata": {
        "trusted": true,
        "_uuid": "f2d2ccd95ba96ebfb3eadb9091f3097fa844afa6"
      },
      "cell_type": "code",
      "source": "!wget https://bin.equinox.io/c/4VmDzA7iaHb/ngrok-stable-linux-amd64.zip\n!unzip ngrok-stable-linux-amd64.zip\nLOG_DIR = './MNIST_LR' # Here you have to put your log directory\nget_ipython().system_raw(\n    'tensorboard --logdir {} --host 0.0.0.0 --port 6006 &'\n    .format(LOG_DIR)\n)\nget_ipython().system_raw('./ngrok http 6006 &')\n! curl -s http://localhost:4040/api/tunnels | python3 -c \\\n    \"import sys, json; print(json.load(sys.stdin)['tunnels'][0]['public_url'])\"",
      "execution_count": null,
      "outputs": []
    },
    {
      "metadata": {
        "trusted": true,
        "_uuid": "2cda1490fe951efe7cf97a593a9e1be00d7075a2"
      },
      "cell_type": "code",
      "source": "",
      "execution_count": null,
      "outputs": []
    },
    {
      "metadata": {
        "_uuid": "40525ff62b0b093d51c88cd1efa228ece51ba44a"
      },
      "cell_type": "markdown",
      "source": "![](https://i.loli.net/2018/11/20/5bf39a64468dc.png)"
    },
    {
      "metadata": {
        "trusted": true,
        "_uuid": "19b35880a7e7eec9d6f080ad608cb867e21b9bc3"
      },
      "cell_type": "code",
      "source": "",
      "execution_count": null,
      "outputs": []
    },
    {
      "metadata": {
        "trusted": true,
        "_uuid": "8100f0932d216f3d903bdff1ae3828880ff61c36"
      },
      "cell_type": "code",
      "source": "",
      "execution_count": null,
      "outputs": []
    },
    {
      "metadata": {
        "trusted": true,
        "_uuid": "0fec5595dde30ff5e07b2404d7b2609da5920fc3"
      },
      "cell_type": "code",
      "source": "",
      "execution_count": null,
      "outputs": []
    },
    {
      "metadata": {
        "trusted": true,
        "_uuid": "aa8528971349d58b44cfb6c4bd93d12d06341390"
      },
      "cell_type": "code",
      "source": "",
      "execution_count": null,
      "outputs": []
    }
  ],
  "metadata": {
    "kernelspec": {
      "display_name": "Python 3",
      "language": "python",
      "name": "python3"
    },
    "language_info": {
      "name": "python",
      "version": "3.6.6",
      "mimetype": "text/x-python",
      "codemirror_mode": {
        "name": "ipython",
        "version": 3
      },
      "pygments_lexer": "ipython3",
      "nbconvert_exporter": "python",
      "file_extension": ".py"
    }
  },
  "nbformat": 4,
  "nbformat_minor": 1
}